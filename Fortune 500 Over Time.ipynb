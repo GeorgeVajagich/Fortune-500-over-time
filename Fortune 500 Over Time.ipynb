{
 "cells": [
  {
   "cell_type": "code",
   "execution_count": 1,
   "id": "991d04ef",
   "metadata": {},
   "outputs": [],
   "source": [
    "import pandas as pd\n",
    "import os\n",
    "import numpy as np\n",
    "import matplotlib.pyplot as plt"
   ]
  },
  {
   "cell_type": "code",
   "execution_count": 2,
   "id": "54c8f891",
   "metadata": {},
   "outputs": [
    {
     "name": "stdout",
     "output_type": "stream",
     "text": [
      "['1956', '1957', '1958', '1959']\n"
     ]
    }
   ],
   "source": [
    "Years=[]\n",
    "for i in range (1956,1960):\n",
    "    i=str(i)\n",
    "    Years.append(i)\n",
    "print(Years)"
   ]
  },
  {
   "cell_type": "code",
   "execution_count": 3,
   "id": "c406a926",
   "metadata": {},
   "outputs": [],
   "source": [
    "df=pd.read_csv(r\"C:\\Users\\Geord\\Desktop\\Fortune500\\Data\\Fortune5001955.csv\",index_col=0)\n",
    "df=df.drop(df.columns[1],axis=1)\n",
    "Data=df\n",
    "\n",
    "for y in Years:\n",
    "    # importing csv\n",
    "    df=pd.read_csv(r\"C:\\Users\\Geord\\Desktop\\Fortune500\\Data\\Fortune500\"+ y +\".csv\",index_col=0)\n",
    "    df=df.drop(df.columns[1],axis=1)\n",
    "    Data=pd.concat([df,Data],axis=1)"
   ]
  },
  {
   "cell_type": "code",
   "execution_count": 4,
   "id": "fd5d28ec",
   "metadata": {},
   "outputs": [
    {
     "name": "stdout",
     "output_type": "stream",
     "text": [
      "                       Revenue    Revenue    Revenue    Revenue   Revenue\n",
      "Company                                                                  \n",
      "General Motors        9,522.00  10,989.80  10,796.40  12,443.30  9,823.50\n",
      "Exxon Mobil           7,543.60   7,830.20   7,126.90   6,272.40  5,661.40\n",
      "Ford Motor            4,130.30   5,771.30   4,647.00   5,594.00       NaN\n",
      "General Electric      4,120.80   4,335.70   4,090.00   3,095.40  2,959.10\n",
      "U.S. Steel            3,472.20   4,413.80   4,228.90   4,097.70  3,250.40\n",
      "...                        ...        ...        ...        ...       ...\n",
      "Liquid Carbonic            NaN        NaN        NaN        NaN      51.4\n",
      "Truax-Traer Coal           NaN        NaN        NaN        NaN      50.5\n",
      "Bullard                    NaN        NaN        NaN        NaN      50.2\n",
      "Cuban-American Sugar       NaN        NaN        NaN        NaN      50.1\n",
      "Goodall-Sanford            NaN        NaN        NaN        NaN      49.7\n",
      "\n",
      "[616 rows x 5 columns]\n"
     ]
    }
   ],
   "source": [
    "print(Data)"
   ]
  },
  {
   "cell_type": "code",
   "execution_count": 13,
   "id": "fb8478ee",
   "metadata": {},
   "outputs": [
    {
     "name": "stdout",
     "output_type": "stream",
     "text": [
      "Revenue     NaN\n",
      "Revenue     NaN\n",
      "Revenue     NaN\n",
      "Revenue     NaN\n",
      "Revenue    81.9\n",
      "Name: Marshall-Wells, dtype: object\n"
     ]
    }
   ],
   "source": [
    "print(Data.iloc[600])"
   ]
  },
  {
   "cell_type": "code",
   "execution_count": null,
   "id": "7023213f",
   "metadata": {},
   "outputs": [],
   "source": []
  }
 ],
 "metadata": {
  "kernelspec": {
   "display_name": "Python 3 (ipykernel)",
   "language": "python",
   "name": "python3"
  },
  "language_info": {
   "codemirror_mode": {
    "name": "ipython",
    "version": 3
   },
   "file_extension": ".py",
   "mimetype": "text/x-python",
   "name": "python",
   "nbconvert_exporter": "python",
   "pygments_lexer": "ipython3",
   "version": "3.9.13"
  }
 },
 "nbformat": 4,
 "nbformat_minor": 5
}
